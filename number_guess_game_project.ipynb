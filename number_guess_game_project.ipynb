{
 "cells": [
  {
   "cell_type": "markdown",
   "id": "d3a09388-bf8c-4889-bf49-f183251e48ca",
   "metadata": {},
   "source": [
    "# Number Guessing Game\n",
    "### 18th March 2025\n",
    "- This notebook helps us to build a game where the user guesses a randomly generated number.\\\n",
    "- We use loops and conditionals to provide hints (eg. Too high or too low).\\\n",
    "- Add a score system to track the number of attempts."
   ]
  },
  {
   "cell_type": "code",
   "execution_count": 25,
   "id": "3e965a47-4c77-460a-8705-ffd88755afd6",
   "metadata": {},
   "outputs": [],
   "source": [
    "# Import the random module to generate a random number\n",
    "import random"
   ]
  },
  {
   "cell_type": "markdown",
   "id": "8b47cb8f-db4d-4319-8f31-8b5ca0bb3dcc",
   "metadata": {},
   "source": [
    "### Number Guessing Game with Restart Option\n",
    "This is a number guessing game where the user has 3 lives to guess a number between 1 and 100.\\\n",
    "After each wrong guess, the player loses one life. The game ends if the player runs out of lives.\\\n",
    "The player can choose to restart the game after finishing."
   ]
  },
  {
   "cell_type": "code",
   "execution_count": null,
   "id": "62ff0817-be8f-405b-9bf6-8a336f44e5dd",
   "metadata": {},
   "outputs": [
    {
     "name": "stdout",
     "output_type": "stream",
     "text": [
      "\n",
      "🎮 Welcome to the Number Guessing Game! 🎮\n",
      "I've picked a number between 1 and 100. Can you guess it?\n",
      "You have 3 lives. Choose wisely!\n"
     ]
    }
   ],
   "source": [
    "def number_guessing_game():\n",
    "    \"\"\"\n",
    "    Function to run the number guessing game with a life count and restart option.\n",
    "    \"\"\"\n",
    "    while True:  # Outer loop to allow restarting the game\n",
    "        # Generate a random number between 1 and 100\n",
    "        target_number = random.randint(1, 100)\n",
    "        lives = 3  # Player starts with 3 lives\n",
    "        attempts = 0\n",
    "        guessed_correctly = False\n",
    "\n",
    "        print(\"\\n🎮 Welcome to the Number Guessing Game! 🎮\")\n",
    "        print(\"I've picked a number between 1 and 100. Can you guess it?\")\n",
    "        print(f\"You have {lives} lives. Choose wisely!\")\n",
    "\n",
    "        # Loop until the user guesses the correct number or runs out of lives\n",
    "        while lives > 0 and not guessed_correctly:\n",
    "            try:\n",
    "                # Ask the user for their guess\n",
    "                guess = int(input(\"Enter your guess (1-100): \"))\n",
    "                attempts += 1\n",
    "\n",
    "                # Check if the guess is correct\n",
    "                if guess < target_number:\n",
    "                    lives -= 1\n",
    "                    print(f\"Hint: Go higher! ⬆️ | Lives left: {lives}\")\n",
    "                elif guess > target_number:\n",
    "                    lives -= 1\n",
    "                    print(f\"Hint: Go lower! ⬇️ | Lives left: {lives}\")\n",
    "                else:\n",
    "                    guessed_correctly = True\n",
    "                    print(f\"🎉 Congratulations! You guessed the number in {attempts} attempts! 🎉\")\n",
    "            except ValueError:\n",
    "                print(\"⚠️ Invalid input! Please enter a number between 1 and 100.\")\n",
    "\n",
    "        # If the player runs out of lives\n",
    "        if lives == 0:\n",
    "            print(f\"😢 Game over! You ran out of lives. The correct number was {target_number}.\")\n",
    "\n",
    "        # Ask the player if they want to play again\n",
    "        play_again = input(\"\\nDo you want to guess another number? (yes/no): \").lower()\n",
    "        if play_again != \"yes\":\n",
    "            print(\"Thank you for playing! Goodbye! 👋\")\n",
    "            break  # Exit the outer loop and end the game\n",
    "\n",
    "# Run the game\n",
    "number_guessing_game()"
   ]
  },
  {
   "cell_type": "markdown",
   "id": "f88d3aa3-0b34-4672-8a67-1165e35efef3",
   "metadata": {},
   "source": [
    "---\n",
    "## It uses **binary search logic** to provide hints and makes the game more challenging with a limited number of attempts."
   ]
  },
  {
   "cell_type": "markdown",
   "id": "12cab8d3-c479-4ddf-8bda-a7f2499538d6",
   "metadata": {},
   "source": [
    "## Code Explanation\n",
    "\n",
    "### 1. **Random Number Generation**\n",
    "- The `random.randint(1, 100)` function generates a random integer between 1 and 100, which is the target number the user needs to guess.\n",
    "\n",
    "### 2. **Life Count**\n",
    "- The player starts with 3 lives (`lives = 3`).\n",
    "- After each wrong guess, the life count decreases by 1 (`lives -= 1`).\n",
    "\n",
    "### 3. **Game Loop**\n",
    "- The game runs in a `while` loop until the user guesses the correct number or runs out of lives.\n",
    "- The user is prompted to enter their guess, and the number of attempts is incremented.\n",
    "\n",
    "### 4. **Binary Search Logic**\n",
    "- If the guess is **less than** the target number, the game hints \"Go higher!\" and deducts one life.\n",
    "- If the guess is **greater than** the target number, the game hints \"Go lower!\" and deducts one life.\n",
    "- This logic mimics the **binary search algorithm**, where the search space is halved with each guess.\n",
    "\n",
    "### 5. **Input Validation**\n",
    "- The `try-except` block ensures the user enters a valid integer. If the input is invalid, the game prompts the user to try again.\n",
    "\n",
    "### 6. **Winning the Game**\n",
    "- When the user guesses the correct number, the game congratulates them and displays the number of attempts taken.\n",
    "\n",
    "### 7. **Losing the Game**\n",
    "- If the player runs out of lives, the game ends and reveals the correct number.\n",
    "\n",
    "### 8. **Restart Option**\n",
    "- After finishing a round, the player is asked if they want to play again.\n",
    "- If the player chooses \"yes\", the game restarts with a new random number.\n",
    "- If the player chooses \"no\", the game ends."
   ]
  },
  {
   "cell_type": "markdown",
   "id": "baba2136-80d1-4c0a-afaf-93a2528bee14",
   "metadata": {},
   "source": [
    "---\n",
    "### **Future Enhancements**\n",
    "1. **Difficulty Levels**: Add different difficulty levels (e.g., smaller or larger ranges).\n",
    "2. **Score System**: Implement a scoring system based on the number of attempts and remaining lives.\n",
    "3. **GUI**: Create a graphical user interface (GUI) using libraries like `tkinter` or `PyQt`.\n",
    "4. **Multiplayer Mode**: Allow two players to compete against each other.\n",
    "\n",
    "This version of the game is more engaging and challenging, making it a great project to showcase your **algorithmic thinking** and **Python skills**! 🚀\n",
    "---"
   ]
  },
  {
   "cell_type": "code",
   "execution_count": null,
   "id": "63772f5b-bdd5-4d03-b59b-3419c789c1e2",
   "metadata": {},
   "outputs": [],
   "source": []
  }
 ],
 "metadata": {
  "kernelspec": {
   "display_name": "Python 3 (ipykernel)",
   "language": "python",
   "name": "python3"
  },
  "language_info": {
   "codemirror_mode": {
    "name": "ipython",
    "version": 3
   },
   "file_extension": ".py",
   "mimetype": "text/x-python",
   "name": "python",
   "nbconvert_exporter": "python",
   "pygments_lexer": "ipython3",
   "version": "3.12.7"
  }
 },
 "nbformat": 4,
 "nbformat_minor": 5
}
