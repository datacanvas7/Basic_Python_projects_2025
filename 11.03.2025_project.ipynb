{
 "cells": [
  {
   "cell_type": "markdown",
   "id": "3a84882f-ba01-40af-a874-7e543f31519a",
   "metadata": {},
   "source": [
    "# To-Do List Application\n",
    "\n",
    "This application allows you to manage tasks with basic CRUD (Create, Read, Update, Delete) operations and file handling. It uses a **priority queue** (implemented with `deque`) to prioritize tasks."
   ]
  },
  {
   "cell_type": "markdown",
   "id": "2ee2dc14-bc54-4d36-b980-7e58d40dc68f",
   "metadata": {},
   "source": [
    "## Features\n",
    "- **Add Tasks**: Add tasks with optional priority (`high`, `medium`, `low`).\n",
    "- **Delete Tasks**: Delete tasks by their index.\n",
    "- **Show Tasks**: Display all tasks in the to-do list.\n",
    "- **Save Tasks**: Tasks are saved to a file (`todo_list.txt`) and loaded automatically when the application starts."
   ]
  },
  {
   "cell_type": "markdown",
   "id": "a5a7a001-c89e-414a-b03a-57ea09685270",
   "metadata": {},
   "source": [
    "## Code Explanation\n",
    "\n",
    "### 1. **Initialization**\n",
    "- The `ToDoList` class initializes a `deque` to store tasks and a file (`todo_list.txt`) to save tasks.\n",
    "- Tasks are loaded from the file (if it exists) when the application starts.\n",
    "\n",
    "### 2. **Add Task**\n",
    "- The `add_task` method adds a task to the to-do list with an optional priority.\n",
    "  - `high` priority tasks are added to the front of the queue.\n",
    "  - `medium` priority tasks are added to the middle.\n",
    "  - `low` priority tasks are added to the end.\n",
    "\n",
    "### 3. **Delete Task**\n",
    "- The `delete_task` method removes a task by its index.\n",
    "\n",
    "### 4. **Show Tasks**\n",
    "- The `show_tasks` method displays all tasks in the to-do list.\n",
    "\n",
    "### 5. **Interactive Menu**\n",
    "- The `interactive_todo_list` function provides a menu-driven interface to:\n",
    "  - Add tasks (with custom input for task and priority).\n",
    "  - Delete tasks (by task number).\n",
    "  - Show all tasks.\n",
    "  - Exit the application."
   ]
  },
  {
   "cell_type": "markdown",
   "id": "953f1118-6b9d-4b1c-bf8c-855db9398c72",
   "metadata": {},
   "source": [
    "---\n",
    "# Code Attached"
   ]
  },
  {
   "cell_type": "code",
   "execution_count": null,
   "id": "d8c69f5a-d925-4245-8407-b6c2f4cf92c8",
   "metadata": {},
   "outputs": [
    {
     "name": "stdout",
     "output_type": "stream",
     "text": [
      "\n",
      "📝 To-Do List Menu 📝\n",
      "1. Add Task\n",
      "2. Delete Task\n",
      "3. Show Tasks\n",
      "4. Exit\n"
     ]
    },
    {
     "name": "stdin",
     "output_type": "stream",
     "text": [
      "Enter your choice (1/2/3/4):  1\n",
      "Enter the task:  Codanics study\n",
      "Enter priority (high/medium/low):  High\n"
     ]
    },
    {
     "name": "stdout",
     "output_type": "stream",
     "text": [
      "Task added: Codanics study (Priority: high)\n",
      "\n",
      "📝 To-Do List Menu 📝\n",
      "1. Add Task\n",
      "2. Delete Task\n",
      "3. Show Tasks\n",
      "4. Exit\n"
     ]
    },
    {
     "name": "stdin",
     "output_type": "stream",
     "text": [
      "Enter your choice (1/2/3/4):  3\n"
     ]
    },
    {
     "name": "stdout",
     "output_type": "stream",
     "text": [
      "🌟 Your To-Do List 🌟\n",
      "1. Codanics study\n",
      "2. Buy groceries\n",
      "3. Read a book\n",
      "\n",
      "📝 To-Do List Menu 📝\n",
      "1. Add Task\n",
      "2. Delete Task\n",
      "3. Show Tasks\n",
      "4. Exit\n"
     ]
    }
   ],
   "source": [
    "# Import required libraries\n",
    "import os\n",
    "from collections import deque\n",
    "\n",
    "# Markdown: ## To-Do List Application\n",
    "# This application allows you to manage tasks with basic CRUD operations and file handling.\n",
    "\n",
    "class ToDoList:\n",
    "    def __init__(self):\n",
    "        # Initialize a deque to store tasks (priority queue)\n",
    "        self.tasks = deque()\n",
    "        # File to save tasks\n",
    "        self.filename = \"todo_list.txt\"\n",
    "        # Load tasks from file if it exists\n",
    "        self.load_tasks()\n",
    "\n",
    "    def load_tasks(self):\n",
    "        \"\"\"\n",
    "        Load tasks from a file if it exists.\n",
    "        \"\"\"\n",
    "        if os.path.exists(self.filename):\n",
    "            with open(self.filename, \"r\") as file:\n",
    "                for line in file:\n",
    "                    task = line.strip()\n",
    "                    if task:  # Avoid empty lines\n",
    "                        self.tasks.append(task)\n",
    "\n",
    "    def save_tasks(self):\n",
    "        \"\"\"\n",
    "        Save tasks to a file.\n",
    "        \"\"\"\n",
    "        with open(self.filename, \"w\") as file:\n",
    "            for task in self.tasks:\n",
    "                file.write(task + \"\\n\")\n",
    "\n",
    "    def add_task(self, task, priority=\"low\"):\n",
    "        \"\"\"\n",
    "        Add a task to the to-do list with optional priority.\n",
    "        Priority can be 'low', 'medium', or 'high'.\n",
    "        \"\"\"\n",
    "        if priority == \"high\":\n",
    "            self.tasks.appendleft(task)  # Add to the front of the queue\n",
    "        elif priority == \"medium\":\n",
    "            # Add to the middle (approximation)\n",
    "            mid = len(self.tasks) // 2\n",
    "            self.tasks.insert(mid, task)\n",
    "        else:\n",
    "            self.tasks.append(task)  # Add to the end of the queue\n",
    "        print(f\"Task added: {task} (Priority: {priority})\")\n",
    "        self.save_tasks()\n",
    "\n",
    "    def delete_task(self, task_index):\n",
    "        \"\"\"\n",
    "        Delete a task by its index.\n",
    "        \"\"\"\n",
    "        if 0 <= task_index < len(self.tasks):\n",
    "            removed_task = self.tasks[task_index]\n",
    "            del self.tasks[task_index]\n",
    "            print(f\"Task deleted: {removed_task}\")\n",
    "            self.save_tasks()\n",
    "        else:\n",
    "            print(\"Invalid task index!\")\n",
    "\n",
    "    def show_tasks(self):\n",
    "        \"\"\"\n",
    "        Display all tasks in the to-do list.\n",
    "        \"\"\"\n",
    "        if not self.tasks:\n",
    "            print(\"No tasks in the to-do list!\")\n",
    "        else:\n",
    "            print(\"🌟 Your To-Do List 🌟\")\n",
    "            for idx, task in enumerate(self.tasks):\n",
    "                print(f\"{idx + 1}. {task}\")\n",
    "\n",
    "# Markdown: ## Interactive To-Do List\n",
    "# Below is an example of how to use the ToDoList class interactively in a Jupyter Notebook.\n",
    "\n",
    "def interactive_todo_list():\n",
    "    \"\"\"\n",
    "    Interactive function to add, delete, and show tasks.\n",
    "    \"\"\"\n",
    "    # Initialize the to-do list\n",
    "    todo = ToDoList()\n",
    "\n",
    "    while True:\n",
    "        print(\"\\n📝 To-Do List Menu 📝\")\n",
    "        print(\"1. Add Task\")\n",
    "        print(\"2. Delete Task\")\n",
    "        print(\"3. Show Tasks\")\n",
    "        print(\"4. Exit\")\n",
    "\n",
    "        choice = input(\"Enter your choice (1/2/3/4): \")\n",
    "\n",
    "        if choice == \"1\":\n",
    "            # Add a task\n",
    "            task = input(\"Enter the task: \")\n",
    "            priority = input(\"Enter priority (high/medium/low): \").lower()\n",
    "            if priority not in [\"high\", \"medium\", \"low\"]:\n",
    "                print(\"Invalid priority! Defaulting to 'low'.\")\n",
    "                priority = \"low\"\n",
    "            todo.add_task(task, priority)\n",
    "\n",
    "        elif choice == \"2\":\n",
    "            # Delete a task\n",
    "            todo.show_tasks()\n",
    "            task_index = input(\"Enter the task number to delete: \")\n",
    "            if task_index.isdigit():\n",
    "                todo.delete_task(int(task_index) - 1)  # Convert to 0-based index\n",
    "            else:\n",
    "                print(\"Invalid task number!\")\n",
    "\n",
    "        elif choice == \"3\":\n",
    "            # Show all tasks\n",
    "            todo.show_tasks()\n",
    "\n",
    "        elif choice == \"4\":\n",
    "            # Exit the program\n",
    "            print(\"Exiting the to-do list. Goodbye! 👋\")\n",
    "            break\n",
    "\n",
    "        else:\n",
    "            print(\"Invalid choice! Please try again.\")\n",
    "\n",
    "# Run the interactive to-do list\n",
    "interactive_todo_list()"
   ]
  },
  {
   "cell_type": "code",
   "execution_count": null,
   "id": "30c17a71-4273-4433-981f-7e3e4614a4ea",
   "metadata": {},
   "outputs": [],
   "source": []
  }
 ],
 "metadata": {
  "kernelspec": {
   "display_name": "Python 3 (ipykernel)",
   "language": "python",
   "name": "python3"
  },
  "language_info": {
   "codemirror_mode": {
    "name": "ipython",
    "version": 3
   },
   "file_extension": ".py",
   "mimetype": "text/x-python",
   "name": "python",
   "nbconvert_exporter": "python",
   "pygments_lexer": "ipython3",
   "version": "3.12.7"
  }
 },
 "nbformat": 4,
 "nbformat_minor": 5
}
