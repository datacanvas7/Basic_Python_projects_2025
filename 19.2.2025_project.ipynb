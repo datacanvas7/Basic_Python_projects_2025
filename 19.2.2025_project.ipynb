{
 "cells": [
  {
   "cell_type": "markdown",
   "id": "711323b7-8a70-4930-a0f6-5c88fc47669a",
   "metadata": {},
   "source": [
    "# Simple Calculator Project \n",
    "## 19.02.2025"
   ]
  },
  {
   "cell_type": "markdown",
   "id": "8ec56e5a-e1b3-43fe-844d-048a44a9e58c",
   "metadata": {},
   "source": [
    "### Description\n",
    "**Project Description: Basic Python Calculator**  \n",
    "This project implements a command-line calculator with core arithmetic operations and special functions. Here's a breakdown of its components:\n",
    "\n",
    "### **Key Features & Functions**  \n",
    "1. **Operations Supported**:  \n",
    "   - Basic arithmetic: Addition (`+`), Subtraction (`-`), Multiplication (`*`), Division (`/`)  \n",
    "   - Special functions: Square (`square`), Cube (`cube`)  \n",
    "\n",
    "2. **Implementation**:  \n",
    "   - **Lambda Functions**: A dictionary maps operation names to lambda functions for concise arithmetic logic.  \n",
    "   - **Error Handling**:  \n",
    "     - Catches division by zero (`ZeroDivisionError`)  \n",
    "     - Validates numeric inputs (`ValueError`)  \n",
    "     - General exception handling for robustness  \n",
    "\n",
    "3. **User Interaction**:  \n",
    "   - Continuous loop for repeated calculations  \n",
    "   - Case-insensitive operation names (`SQUARE`, `Square`, `square` all work)  \n",
    "   - Clear prompts and formatted results  \n",
    "\n",
    "4. **Structure**:  \n",
    "   - Single `calculator()` function encapsulates all logic  \n",
    "   - Operation dictionary for easy scalability  \n",
    "   - Input validation at every step  \n",
    "\n",
    "### **Technologies Used**  \n",
    "- **Python**: Core language features (input/output, functions, error handling)  \n",
    "- **Lambda Functions**: For compact operation definitions  \n",
    "- **Dictionary**: Maps user inputs to corresponding operations  \n",
    "\n",
    "This calculator prioritizes accessibility (no special symbols needed) and reliability, making it suitable for basic math tasks in a terminal environment."
   ]
  },
  {
   "cell_type": "code",
   "execution_count": null,
   "id": "af01c064-c582-4d2e-8573-09ce9eb36390",
   "metadata": {},
   "outputs": [
    {
     "name": "stdout",
     "output_type": "stream",
     "text": [
      "\n",
      "Main Menu\n",
      "1. Open Calculator\n",
      "Q. Quit Program\n"
     ]
    },
    {
     "name": "stdin",
     "output_type": "stream",
     "text": [
      "Enter your choice:  1\n"
     ]
    },
    {
     "name": "stdout",
     "output_type": "stream",
     "text": [
      "\n",
      "Simple Python Calculator\n",
      "Numbered Operations:\n",
      "1. Add        2. Subtract\n",
      "3. Multiply   4. Divide\n",
      "5. Square     6. Cube\n"
     ]
    },
    {
     "name": "stdin",
     "output_type": "stream",
     "text": [
      "\n",
      "Enter operation number (1-6) or Q to return to main menu:  5\n",
      "Enter number:  6\n"
     ]
    },
    {
     "name": "stdout",
     "output_type": "stream",
     "text": [
      "\n",
      "6.0 squared = 36.0\n"
     ]
    },
    {
     "name": "stdin",
     "output_type": "stream",
     "text": [
      "\n",
      "Perform another calculation? (Y/N):  n\n"
     ]
    },
    {
     "name": "stdout",
     "output_type": "stream",
     "text": [
      "Returning to main menu...\n",
      "\n",
      "Main Menu\n",
      "1. Open Calculator\n",
      "Q. Quit Program\n"
     ]
    }
   ],
   "source": [
    "def calculator():\n",
    "    operations = {\n",
    "        '1': ('Addition', lambda a, b: a + b),\n",
    "        '2': ('Subtraction', lambda a, b: a - b),\n",
    "        '3': ('Multiplication', lambda a, b: a * b),\n",
    "        '4': ('Division', lambda a, b: a / b if b != 0 else \"Error! Division by zero\"),\n",
    "        '5': ('Square', lambda a: a ** 2),\n",
    "        '6': ('Cube', lambda a: a ** 3)\n",
    "    }\n",
    "\n",
    "    print(\"\\nSimple Python Calculator\")\n",
    "    print(\"Numbered Operations:\")\n",
    "    print(\"1. Add        2. Subtract\")\n",
    "    print(\"3. Multiply   4. Divide\")\n",
    "    print(\"5. Square     6. Cube\")\n",
    "\n",
    "    while True:\n",
    "        choice = input(\"\\nEnter operation number (1-6) or Q to return to main menu: \").strip().lower()\n",
    "        \n",
    "        if choice == 'q':\n",
    "            print(\"Returning to main menu...\")\n",
    "            return  # Exit calculator but keep program running\n",
    "            \n",
    "        if choice not in operations:\n",
    "            print(\"Invalid choice! Please select 1-6\")\n",
    "            continue\n",
    "\n",
    "        try:\n",
    "            op_name, func = operations[choice]\n",
    "            \n",
    "            if choice in ['5', '6']:\n",
    "                num = float(input(\"Enter number: \"))\n",
    "                result = func(num)\n",
    "                print(f\"\\n{num} {op_name.lower()}d = {result}\")\n",
    "            else:\n",
    "                num1 = float(input(\"Enter first number: \"))\n",
    "                num2 = float(input(\"Enter second number: \"))\n",
    "                result = func(num1, num2)\n",
    "                print(f\"\\n{num1} {op_name.split()[0]} {num2} = {result}\")\n",
    "\n",
    "        except ValueError:\n",
    "            print(\"Invalid number input! Please enter numeric values\")\n",
    "        except ZeroDivisionError:\n",
    "            print(\"Error! Division by zero is not allowed\")\n",
    "        except Exception as e:\n",
    "            print(f\"An error occurred: {str(e)}\")\n",
    "\n",
    "        cont = input(\"\\nPerform another calculation? (Y/N): \").strip().lower()\n",
    "        if cont in {'n', 'no', 'q'}:\n",
    "            print(\"Returning to main menu...\")\n",
    "            return  # Exit calculator but keep program running\n",
    "\n",
    "def main():\n",
    "    while True:\n",
    "        print(\"\\nMain Menu\")\n",
    "        print(\"1. Open Calculator\")\n",
    "        print(\"Q. Quit Program\")\n",
    "        choice = input(\"Enter your choice: \").strip().lower()\n",
    "        \n",
    "        if choice == '1':\n",
    "            calculator()\n",
    "        elif choice == 'q':\n",
    "            print(\"Goodbye!\")\n",
    "            break\n",
    "        else:\n",
    "            print(\"Invalid choice! Please select 1 or Q\")\n",
    "\n",
    "if __name__ == \"__main__\":\n",
    "    main()"
   ]
  },
  {
   "cell_type": "code",
   "execution_count": null,
   "id": "c9b81b62-b6e3-401c-b0d1-e19651f2813b",
   "metadata": {},
   "outputs": [],
   "source": []
  }
 ],
 "metadata": {
  "kernelspec": {
   "display_name": "Python 3 (ipykernel)",
   "language": "python",
   "name": "python3"
  },
  "language_info": {
   "codemirror_mode": {
    "name": "ipython",
    "version": 3
   },
   "file_extension": ".py",
   "mimetype": "text/x-python",
   "name": "python",
   "nbconvert_exporter": "python",
   "pygments_lexer": "ipython3",
   "version": "3.12.7"
  }
 },
 "nbformat": 4,
 "nbformat_minor": 5
}
