{
 "cells": [
  {
   "cell_type": "code",
   "execution_count": 1,
   "id": "583b99fc-1402-44b8-b518-a91935f6520d",
   "metadata": {},
   "outputs": [],
   "source": [
    "#Fun Exercise\n",
    "# BMI Calculation\n",
    "# Height \n",
    "# BMI (input height)\n",
    "# Weight \n",
    "# Calculate BMI\n",
    "# Print BMI (My name is ___ & my BMI is____)\n",
    "# BMI formula = weight (kg)/height (m**2) (metre_square)"
   ]
  },
  {
   "cell_type": "code",
   "execution_count": 2,
   "id": "f4fe883d-d750-4910-872e-1fd2e6c13716",
   "metadata": {
    "scrolled": true
   },
   "outputs": [
    {
     "name": "stdin",
     "output_type": "stream",
     "text": [
      "What is your height? 1.7\n"
     ]
    }
   ],
   "source": [
    "height = input(\"What is your height?\")"
   ]
  },
  {
   "cell_type": "code",
   "execution_count": 3,
   "id": "2b18bcf1-e9f5-43c5-aca0-9ba880f2b4fb",
   "metadata": {},
   "outputs": [],
   "source": [
    "height = float(height)"
   ]
  },
  {
   "cell_type": "code",
   "execution_count": 4,
   "id": "41552d13-fd5b-4f2a-b807-1b6114a82198",
   "metadata": {
    "scrolled": true
   },
   "outputs": [
    {
     "name": "stdin",
     "output_type": "stream",
     "text": [
      "What is your weight? 55\n"
     ]
    }
   ],
   "source": [
    "weight = input(\"What is your weight?\")"
   ]
  },
  {
   "cell_type": "code",
   "execution_count": 5,
   "id": "727517ae-6c92-49e9-9959-7aa6b27f4c00",
   "metadata": {},
   "outputs": [],
   "source": [
    "weight = float(weight)"
   ]
  },
  {
   "cell_type": "code",
   "execution_count": 6,
   "id": "ed62bf81-9ee1-4b3e-b8c4-0bd0c17c1f47",
   "metadata": {
    "scrolled": true
   },
   "outputs": [
    {
     "name": "stdin",
     "output_type": "stream",
     "text": [
      "What is your name? Yawar\n"
     ]
    }
   ],
   "source": [
    "name = input(\"What is your name?\")"
   ]
  },
  {
   "cell_type": "code",
   "execution_count": 7,
   "id": "fd7d11b4-2dd6-4963-a095-739c1effaa2c",
   "metadata": {},
   "outputs": [],
   "source": [
    "BMI = weight// height**2"
   ]
  },
  {
   "cell_type": "code",
   "execution_count": 10,
   "id": "ecd14765-6d6a-42d2-9703-aab6d72fd18f",
   "metadata": {},
   "outputs": [
    {
     "name": "stdout",
     "output_type": "stream",
     "text": [
      "My name is Yawar and my BMI is 19.0\n"
     ]
    }
   ],
   "source": [
    "print(\"My name is\", name, \"and my BMI is\", BMI)"
   ]
  },
  {
   "cell_type": "code",
   "execution_count": null,
   "id": "97d922f5-f11a-484b-94b1-a60768d5c9ea",
   "metadata": {},
   "outputs": [],
   "source": []
  }
 ],
 "metadata": {
  "kernelspec": {
   "display_name": "Python [conda env:base] *",
   "language": "python",
   "name": "conda-base-py"
  },
  "language_info": {
   "codemirror_mode": {
    "name": "ipython",
    "version": 3
   },
   "file_extension": ".py",
   "mimetype": "text/x-python",
   "name": "python",
   "nbconvert_exporter": "python",
   "pygments_lexer": "ipython3",
   "version": "3.12.7"
  }
 },
 "nbformat": 4,
 "nbformat_minor": 5
}
